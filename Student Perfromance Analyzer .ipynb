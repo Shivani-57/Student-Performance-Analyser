{
 "cells": [
  {
   "cell_type": "code",
   "execution_count": 6,
   "id": "b7bd1237",
   "metadata": {},
   "outputs": [
    {
     "name": "stdout",
     "output_type": "stream",
     "text": [
      "enter top stu5\n"
     ]
    },
    {
     "data": {
      "image/png": "[encoded data removed]",
      "text/plain": [
       "<Figure size 1080x432 with 1 Axes>"
      ]
     },
     "metadata": {
      "needs_background": "light"
     },
     "output_type": "display_data"
    }
   ],
   "source": [
    "import pandas as pd\n",
    "import matplotlib.pyplot as plt\n",
    "import numpy as np\n",
    "class StudentDetail:\n",
    "    def _init_(self):\n",
    "        self.flag=1\n",
    "        while(self.flag==1):\n",
    "            a=int(input(print('''        1.To add Student Data\n",
    "            3.Progress in all three tests\n",
    "            4.display top n students\n",
    "            5.Display Marks of particular student\n",
    "            6.Exit''')))\n",
    "            if(a==1):\n",
    "                self.AddStudent()\n",
    "            elif(a==3):\n",
    "                self.LinearGraph()\n",
    "            elif(a==4):\n",
    "                self.BarGraph()\n",
    "            elif(a==5):\n",
    "                self.PieChart()\n",
    "            elif(a==6):\n",
    "                break\n",
    "            else:\n",
    "                self.flag=1\n",
    "#         if(self.flag==0):\n",
    "#             break\n",
    "        \n",
    "    def AddStudent(self):\n",
    "        flag=0\n",
    "        total=0\n",
    "        s=\"\"\n",
    "        f=open(\"CSE_Rank.csv\")\n",
    "        br=input(\"Enter branch\").upper()\n",
    "        s+=br+\",\"\n",
    "        bt=input(\"Enter batch\").upper()\n",
    "        s+=bt+\",\"\n",
    "        rn=input(\"Enter roll no\").upper()\n",
    "        s+=rn+\",\"\n",
    "        en=input(\"Enter enrollment no\")\n",
    "        s+=en+\",\"\n",
    "        st=input(\"Enter student name\").upper()\n",
    "        s+=st+\",\"\n",
    "        l=s.split(\",\")\n",
    "        for i in f.readlines():\n",
    "            w=i.split(\",\")\n",
    "            if w[0]==\"Branch\":\n",
    "                continue\n",
    "            else:\n",
    "                if l[0]==w[0] and l[1]==w[1] and l[2]==w[2] and l[3]==w[3]:\n",
    "                    print(\"already exists\")\n",
    "                    s=\"\"\n",
    "                    self.AddStudent()\n",
    "                else:\n",
    "                    flag=1\n",
    "        ps_total=0\n",
    "        for i in range(3):\n",
    "            ps_m=input(f\"Enter marks for PS test {i+1}:\")\n",
    "            s+=ps_m+\",\"\n",
    "            ps_total+=float(ps_m)\n",
    "        total+=ps_total\n",
    "        ps_total=str(ps_total)\n",
    "        s+=ps_total+\",\"\n",
    "        fsd_total=0\n",
    "        for i in range(3):\n",
    "            fsd_m=input(f\"Enter marks for FSD test {i+1}:\")\n",
    "            s+=fsd_m+\",\"\n",
    "            fsd_total+=float(fsd_m)\n",
    "        total+=fsd_total\n",
    "        fsd_total=str(fsd_total)\n",
    "        s+=fsd_total+\",\"\n",
    "\n",
    "        de_total=0\n",
    "        for i in range(3):\n",
    "            de_m=input(f\"Enter marks for DE test {i+1}:\")\n",
    "            s+=de_m+\",\"\n",
    "            de_total+=float(de_m)\n",
    "        total+=de_total\n",
    "        de_total=str(de_total)\n",
    "        s+=de_total+\",\"\n",
    "\n",
    "        py_total=0\n",
    "        for i in range(3):\n",
    "            py_m=input(f\"Enter marks for PYTHON test {i+1}:\")\n",
    "            s+=py_m+\",\"\n",
    "            py_total+=float(py_m)\n",
    "        total+=py_total\n",
    "        py_total=str(py_total)\n",
    "        s+=py_total+\",\"\n",
    "\n",
    "        etc_total=0\n",
    "        for i in range(3):\n",
    "            etc_m=input(f\"Enter marks for ETC test {i+1}:\")\n",
    "            s+=etc_m+\",\"\n",
    "            etc_total+=float(etc_m)\n",
    "        total+=etc_total\n",
    "        etc_total=str(etc_total)\n",
    "        s+=etc_total+\",\"\n",
    "\n",
    "        att=input(\"Enter Attendance performance\")\n",
    "        s+=att+\",\"\n",
    "        total=str(total)\n",
    "        s+=total\n",
    "    #     print(s)\n",
    "        if(flag==1):\n",
    "            f=open(\"CSE_Rank.csv\",\"a\")\n",
    "            if s==\"\":\n",
    "                print()\n",
    "\n",
    "            else:\n",
    "                f.write(\"\\n\")\n",
    "                f.write(s)\n",
    "                f.close()\n",
    "\n",
    "        f.close()\n",
    "    def LinearGraph(self):\n",
    "        f=open(\"CSE_Rank.csv\")\n",
    "        r=input(\"enter rollno \")\n",
    "        b=input(\"enter batch\")\n",
    "        for i in f.readlines():\n",
    "            w=i.split(\",\")\n",
    "            if r==w[2] and b==w[1]:\n",
    "                t1=float(w[5])+float(w[9])+float(w[13])+float(w[17])+float(w[21])\n",
    "                t2=float(w[6])+float(w[10])+float(w[14])+float(w[18])+float(w[22])\n",
    "                t3=float(w[7])+float(w[11])+float(w[15])+float(w[19])+float(w[23])\n",
    "                x1=[t1,t2,t3]\n",
    "                print(x1)\n",
    "                x2=[\"T1\", \"T2\", \"T3\"]\n",
    "                plt.xlabel(\"Test\")\n",
    "                plt.ylabel(\"Marks\")\n",
    "                plt.title(\"Student Data\")\n",
    "                plt.grid()\n",
    "                plt.plot(x2,x1,marker=\"o\",label=\"mark1\",color=\"green\",ms=5,linestyle=\":\")\n",
    "                plt.legend(loc=\"upper left\")\n",
    "                plt.show() \n",
    "        self.flag=0\n",
    "    def PieChart(self):\n",
    "        f=open(\"CSE_Rank.csv\")\n",
    "        r=input(\"enter rollno \")\n",
    "        b=input(\"enter batch\")\n",
    "        for i in f.readlines():\n",
    "            w=i.split(\",\")\n",
    "            if r==w[2] and b==w[1]:\n",
    "                y = np.array([float(w[8]),float(w[12]),float(w[16]),float(w[20]),float(w[24])])\n",
    "                mylabels = [\"PS\", \"FSD\", \"DE\",\"PYTHON\", \"ETC\"]\n",
    "        plt.pie(y,labels = mylabels,autopct='%1.1f%%', startangle = 90)\n",
    "        plt.show() \n",
    "    def BarGraph(self):\n",
    "        f=open(\"CSE_Rank.csv\")\n",
    "        l=[]\n",
    "        d={}\n",
    "        nos=int(input(\"enter top stu\"))\n",
    "        for i in f.readlines():\n",
    "            s=i.replace(\"\\n\",\"\")\n",
    "            if(s.split(\",\")[-1]==\"Total\"):\n",
    "                continue\n",
    "            else:\n",
    "                x=float(s.split(\",\")[-1])\n",
    "                l.append(x)\n",
    "        l.sort(reverse=True)\n",
    "        f.seek(0)\n",
    "        for i in f.readlines():\n",
    "            s=i.replace(\"\\n\",\"\")\n",
    "            if(s.split(\",\")[-1]==\"Total\"):\n",
    "                continue \n",
    "            else: \n",
    "                for j in l[0:nos]:\n",
    "                    if str(j) in s.split(\",\")[-1]:\n",
    "                        d[str(i.split(\",\")[4])]=j\n",
    "\n",
    "        # creating the dataset\n",
    "        names= list(d.keys())\n",
    "        marks= list(d.values())\n",
    "\n",
    "        fig = plt.figure(figsize = (15,6))\n",
    "\n",
    "        #creating the bar plot\n",
    "        plt.bar(names,marks, color ='maroon', width = 0.3)\n",
    "\n",
    "        plt.xlabel(\"Student Name\")\n",
    "        plt.ylabel(\"Total Marks\")\n",
    "        plt.title(f\"Marks of Top {nos} Students\")\n",
    "        plt.show()\n",
    "    def PredictT4(self):\n",
    "        f=open(\"CSE_Rank.csv\")\n",
    "        r=input(\"enter rollno \")\n",
    "        b=input(\"enter batch\")\n",
    "        for i in f.readlines():\n",
    "            w=i.split(\",\")\n",
    "            if r==w[2] and b==w[1]:\n",
    "                print(w[4])\n",
    "                t1=float(w[5])+float(w[9])+float(w[13])+float(w[17])+float(w[21])\n",
    "                t2=float(w[6])+float(w[10])+float(w[14])+float(w[18])+float(w[22])\n",
    "                t3=float(w[7])+float(w[11])+float(w[15])+float(w[19])+float(w[23])\n",
    "        x1=[t1,t2,t3]\n",
    "        print(x1)\n",
    "        data=pd.read_csv(\"CSE_Final_Rank.csv\")\n",
    "        x=data[['Total(T1)','TOTAL(T2)','TOTAL(T3)']]\n",
    "        y=data['TOTAL(T4)']\n",
    "        from sklearn.model_selection import train_test_split\n",
    "        x_train,x_test,y_train,y_test = train_test_split(x,y,train_size=0.7,test_size=0.3,random_state=5)\n",
    "        from sklearn import linear_model\n",
    "        lr=linear_model.LinearRegression()\n",
    "        lr.fit(x_train,y_train)\n",
    "        y_pred = lr.predict(x_test)\n",
    "        list1=[x1]\n",
    "        m4=lr.predict(list1)\n",
    "        m4=round(m4[0])\n",
    "        print(m4)\n",
    "    def Accuracy(self):\n",
    "        data=pd.read_csv(\"CSE_Final_Rank.csv\")\n",
    "        x=data[['Total(T1)','TOTAL(T2)','TOTAL(T3)']]\n",
    "        y=data['TOTAL(T4)']\n",
    "        from sklearn.model_selection import train_test_split\n",
    "        x_train,x_test,y_train,y_test = train_test_split(x,y,train_size=0.7,test_size=0.3,random_state=5)\n",
    "        from sklearn import linear_model\n",
    "        lr=linear_model.LinearRegression()\n",
    "        lr.fit(x_train,y_train)\n",
    "        y_pred = lr.predict(x_test)\n",
    "        from sklearn.metrics import r2_score\n",
    "        print(\"Accuracy of my model is : \",r2_score(y_test,y_pred))\n",
    "        \n",
    "ojc=StudentDetail()\n",
    "ojc.BarGraph()"
   ]
  },
  {
   "cell_type": "code",
   "execution_count": 4,
   "id": "07fe1240",
   "metadata": {},
   "outputs": [
    {
     "name": "stdout",
     "output_type": "stream",
     "text": [
      "enter rollno 20\n",
      "enter batchB1\n",
      "[113.5, 108.0, 103.5]\n"
     ]
    },
    {
     "data": {
      "image/png": "[encoded data removed]",
      "text/plain": [
       "<Figure size 432x288 with 1 Axes>"
      ]
     },
     "metadata": {
      "needs_background": "light"
     },
     "output_type": "display_data"
    }
   ],
   "source": [
    "ojc.LinearGraph()"
   ]
  },
  {
   "cell_type": "code",
   "execution_count": 7,
   "id": "846b8f78",
   "metadata": {},
   "outputs": [
    {
     "name": "stdout",
     "output_type": "stream",
     "text": [
      "enter rollno 20\n",
      "enter batchB1\n",
      "SAVALIA TIRTH JAYANTIBHAI\n",
      "[113.5, 108.0, 103.5]\n",
      "[99.66522408]\n",
      "100\n"
     ]
    },
    {
     "name": "stderr",
     "output_type": "stream",
     "text": [
      "C:\\Users\\Tirth Savalia\\anaconda3\\lib\\site-packages\\sklearn\\base.py:464: UserWarning: X does not have valid feature names, but LinearRegression was fitted with feature names\n",
      "  warnings.warn(\n"
     ]
    }
   ],
   "source": [
    "ojc.PredictT4()"
   ]
  },
  {
   "cell_type": "code",
   "execution_count": 6,
   "id": "f4d4aaef",
   "metadata": {},
   "outputs": [
    {
     "name": "stdout",
     "output_type": "stream",
     "text": [
      "enter rollno 20\n",
      "enter batchB1\n"
     ]
    },
    {
     "data": {
      "image/png": "[encoded data removed]",
      "text/plain": [
       "<Figure size 432x288 with 1 Axes>"
      ]
     },
     "metadata": {},
     "output_type": "display_data"
    }
   ],
   "source": [
    "ojc.PieChart()"
   ]
  },
  {
   "cell_type": "code",
   "execution_count": null,
   "id": "863e8b74",
   "metadata": {},
   "outputs": [],
   "source": []
  }
 ],
 "metadata": {
  "kernelspec": {
   "display_name": "Python 3 (ipykernel)",
   "language": "python",
   "name": "python3"
  },
  "language_info": {
   "codemirror_mode": {
    "name": "ipython",
    "version": 3
   },
   "file_extension": ".py",
   "mimetype": "text/x-python",
   "name": "python",
   "nbconvert_exporter": "python",
   "pygments_lexer": "ipython3",
   "version": "3.9.18"
  }
 },
 "nbformat": 4,
 "nbformat_minor": 5
}
